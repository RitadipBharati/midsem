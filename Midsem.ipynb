{
 "cells": [
  {
   "cell_type": "code",
   "execution_count": 1,
   "metadata": {},
   "outputs": [
    {
     "name": "stdout",
     "output_type": "stream",
     "text": [
      "importing Jupyter notebook from MyLibrary.ipynb\n"
     ]
    }
   ],
   "source": [
    "import import_ipynb\n",
    "from MyLibrary import *\n",
    "import math\n"
   ]
  },
  {
   "cell_type": "markdown",
   "metadata": {},
   "source": [
    "# Q1"
   ]
  },
  {
   "cell_type": "code",
   "execution_count": 2,
   "metadata": {},
   "outputs": [],
   "source": [
    "def func1(x):\n",
    "    F=(x-5)*math.exp(x)+5\n",
    "    return(F)"
   ]
  },
  {
   "cell_type": "code",
   "execution_count": 3,
   "metadata": {},
   "outputs": [
    {
     "name": "stdout",
     "output_type": "stream",
     "text": [
      "The value of b is 0.0029 mK.\n"
     ]
    }
   ],
   "source": [
    "x,x_N,y_N=NR(func1,6,dx=0.001,tol=10**(-5))\n",
    "#print(x)#Ritadip Bharati 1911129\n",
    "h=6.626*10**(-34)\n",
    "k=1.381*10**(-23)\n",
    "c=3*10**8\n",
    "b=(h*c)/(x*k)\n",
    "print(\"The value of b is \"+str(Round(b,5))+\" mK.\")"
   ]
  },
  {
   "cell_type": "markdown",
   "metadata": {},
   "source": [
    "# Q2"
   ]
  },
  {
   "cell_type": "code",
   "execution_count": 4,
   "metadata": {},
   "outputs": [
    {
     "name": "stdout",
     "output_type": "stream",
     "text": [
      "importing Jupyter notebook from MatrixQ2.ipynb\n",
      "The matrix is invertible.\n",
      "The inverse matrix is:\n",
      "[0.0, 0.0, 0.0, 0.2]\n",
      "[0.0, 0.0, 0.25, 0.0]\n",
      "[0.0, 0.33, 0.0, 0.0]\n",
      "[0.5, 0.0, 0.0, 0.0]\n",
      "For verification:\n",
      "[1.0, 0.0, 0.0, 0.0]\n",
      "[0.0, 1.0, 0.0, 0.0]\n",
      "[0.0, 0.0, 1.0, 0.0]\n",
      "[0.0, 0.0, 0.0, 1.0]\n"
     ]
    }
   ],
   "source": [
    "from MatrixQ2 import *\n",
    "Inv=InverseMatrix(Q2)\n",
    "Display(Inv)\n",
    "#Ritadip Bharati 1911129\n",
    "print(\"For verification:\")\n",
    "Display(RoundMatrix(MATMULT(Q2,Inv),1))"
   ]
  },
  {
   "cell_type": "markdown",
   "metadata": {},
   "source": [
    "# Q3"
   ]
  },
  {
   "cell_type": "code",
   "execution_count": 5,
   "metadata": {},
   "outputs": [
    {
     "name": "stdout",
     "output_type": "stream",
     "text": [
      "importing Jupyter notebook from MatrixQ3.ipynb\n",
      "[[3.0], [4.0], [-6.0], [-1.0]]\n",
      "The roots are:\n",
      "x1 = 3.0\n",
      "The roots are:\n",
      "x2 = 4.0\n",
      "The roots are:\n",
      "x3 = -6.0\n",
      "The roots are:\n",
      "x4 = -1.0\n",
      "verification:\n",
      "3x1-7x2-2x3+2x4=\n",
      "-9.0\n"
     ]
    }
   ],
   "source": [
    "from MatrixQ3 import *\n",
    "X=DEqnSolver(Q3,q3)\n",
    "print(X)#Ritadip Bharati 1911129\n",
    "for i in range(len(X)):\n",
    "    print(\"The roots are:\")\n",
    "    print(\"x\"+str(i+1)+\" = \"+str(X[i][0]))\n",
    "print(\"verification:\")\n",
    "print(\"3x1-7x2-2x3+2x4=\")\n",
    "print(3*X[0][0]-7*X[1][0]-2*X[2][0]+2*X[3][0])\n"
   ]
  },
  {
   "cell_type": "markdown",
   "metadata": {},
   "source": [
    "# Q4"
   ]
  },
  {
   "cell_type": "code",
   "execution_count": 6,
   "metadata": {},
   "outputs": [],
   "source": [
    "def func4(x):#Ritadip Bharati 1911129\n",
    "    F4=4*math.exp(-x)*math.sin(x)-1\n",
    "    return(F4)"
   ]
  },
  {
   "cell_type": "code",
   "execution_count": 11,
   "metadata": {},
   "outputs": [
    {
     "name": "stdout",
     "output_type": "stream",
     "text": [
      "0.3705596923828125\n"
     ]
    },
    {
     "data": {
      "text/plain": [
       "(0.3705596923828125,\n",
       " [1, 2, 3, 4, 5, 6, 7, 8, 9, 10, 11, 12, 13, 14, 15, 16],\n",
       " [0.16314515285076747,\n",
       "  -0.22928641119044635,\n",
       "  0.00694072942598023,\n",
       "  -0.10029271117141347,\n",
       "  -0.044067941803366484,\n",
       "  -0.01792539833002582,\n",
       "  -0.005334495404781703,\n",
       "  0.000842363463150253,\n",
       "  -0.0022362277302735434,\n",
       "  -0.0006944759041251913,\n",
       "  7.455742073303462e-05,\n",
       "  -0.0003098057793825548,\n",
       "  -0.00011758582024790076,\n",
       "  -2.150461080097088e-05,\n",
       "  2.6528802103520377e-05,\n",
       "  2.5126949483311734e-06],\n",
       " [0.5,\n",
       "  0.25,\n",
       "  0.375,\n",
       "  0.3125,\n",
       "  0.34375,\n",
       "  0.359375,\n",
       "  0.3671875,\n",
       "  0.37109375,\n",
       "  0.369140625,\n",
       "  0.3701171875,\n",
       "  0.37060546875,\n",
       "  0.370361328125,\n",
       "  0.3704833984375,\n",
       "  0.37054443359375,\n",
       "  0.370574951171875,\n",
       "  0.3705596923828125])"
      ]
     },
     "execution_count": 11,
     "metadata": {},
     "output_type": "execute_result"
    }
   ],
   "source": [
    "xB,x_B,y_B,z_B=Bisection(func4, 0, 1, beta=2, tol=10**(-5))\n",
    "print(xB)"
   ]
  },
  {
   "cell_type": "code",
   "execution_count": 8,
   "metadata": {},
   "outputs": [
    {
     "name": "stdout",
     "output_type": "stream",
     "text": [
      "0.370562300835524\n"
     ]
    }
   ],
   "source": [
    "xR,x_RF,y_RF,z_RF=RegulaFalsi(func4, 0, 1, beta=0.05, tol=10**(-5))\n",
    "print(xR)"
   ]
  },
  {
   "cell_type": "code",
   "execution_count": 9,
   "metadata": {},
   "outputs": [
    {
     "name": "stdout",
     "output_type": "stream",
     "text": [
      "    root in bisection root in Regula falsi\n",
      "i                                         \n",
      "1            0.500000   0.8075982052665829\n",
      "2            0.250000   0.6265494882844935\n",
      "3            0.375000  0.49985393187801186\n",
      "4            0.312500  0.42979553644622137\n",
      "5            0.343750  0.39632542281599925\n",
      "6            0.359375   0.3814972968627457\n",
      "7            0.367188   0.3751529050070425\n",
      "8            0.371094   0.3724793039057679\n",
      "9            0.369141   0.3713598671047275\n",
      "10           0.370117   0.3708924286491957\n",
      "11           0.370605  0.37069746366711326\n",
      "12           0.370361  0.37061618376611605\n",
      "13           0.370483  0.37058230528185915\n",
      "14           0.370544  0.37056818546599873\n",
      "15           0.370575    0.370562300835524\n",
      "16           0.370560                    _\n"
     ]
    }
   ],
   "source": [
    "name4=\"Comparison between convergence between Bisection and Regula Falsi.csv\"\n",
    "columnlabel4=[\"i\",\"root in bisection\",\"root in Regula falsi\"]\n",
    "X_regula=[\"_\" for i in range(len(x_B))]\n",
    "for i in range(len(x_RF)):\n",
    "    X_regula[i]=y_RF[i]\n",
    "data4=[[x_B[i],z_B[i],X_regula[i]] for i in range(len(x_B))]\n",
    "MakeTable(name4,columnlabel4,data4)"
   ]
  },
  {
   "cell_type": "code",
   "execution_count": 10,
   "metadata": {},
   "outputs": [
    {
     "data": {
      "image/png": "[encoded data removed]",
      "text/plain": [
       "<Figure size 720x360 with 2 Axes>"
      ]
     },
     "metadata": {
      "needs_background": "light"
     },
     "output_type": "display_data"
    }
   ],
   "source": [
    "fig,ax=plt.subplots(2,1,figsize=(10,5))\n",
    "plt.subplot(1,2,1)\n",
    "plt.plot(x_B,z_B,\"o-\")\n",
    "plt.xlabel('Iteration number(i)')\n",
    "plt.ylabel('f(x_i)')\n",
    "plt.grid(color = 'green', linestyle = '--', linewidth = 0.5)\n",
    "plt.title(\"Bisection\")\n",
    "#plt.show()\n",
    "plt.subplot(1,2,2)\n",
    "plt.plot(x_RF,y_RF,\"o-\")\n",
    "plt.xlabel('Iteration number(i)')\n",
    "plt.ylabel('f(x_i)')\n",
    "plt.grid(color = 'green', linestyle = '--', linewidth = 0.5)\n",
    "plt.title(\"Regula Falsi\")\n",
    "plt.suptitle(\"Comparison between Bisection and regula falsi\",fontsize='xx-large',y=1.1)\n",
    "fig.tight_layout()\n",
    "plt.show()"
   ]
  },
  {
   "cell_type": "code",
   "execution_count": null,
   "metadata": {},
   "outputs": [],
   "source": []
  }
 ],
 "metadata": {
  "kernelspec": {
   "display_name": "Python 3",
   "language": "python",
   "name": "python3"
  },
  "language_info": {
   "codemirror_mode": {
    "name": "ipython",
    "version": 3
   },
   "file_extension": ".py",
   "mimetype": "text/x-python",
   "name": "python",
   "nbconvert_exporter": "python",
   "pygments_lexer": "ipython3",
   "version": "3.7.6"
  }
 },
 "nbformat": 4,
 "nbformat_minor": 4
}
